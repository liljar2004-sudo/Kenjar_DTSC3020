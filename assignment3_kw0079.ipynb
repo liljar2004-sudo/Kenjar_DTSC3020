{
  "nbformat": 4,
  "nbformat_minor": 0,
  "metadata": {
    "colab": {
      "provenance": [],
      "authorship_tag": "ABX9TyNgOl5rYTk0ihKxDkIIzfLU",
      "include_colab_link": true
    },
    "kernelspec": {
      "name": "python3",
      "display_name": "Python 3"
    },
    "language_info": {
      "name": "python"
    }
  },
  "cells": [
    {
      "cell_type": "markdown",
      "metadata": {
        "id": "view-in-github",
        "colab_type": "text"
      },
      "source": [
        "<a href=\"https://colab.research.google.com/github/liljar2004-sudo/Kenjar_DTSC3020/blob/main/assignment3_kw0079.ipynb\" target=\"_parent\"><img src=\"https://colab.research.google.com/assets/colab-badge.svg\" alt=\"Open In Colab\"/></a>"
      ]
    },
    {
      "cell_type": "code",
      "execution_count": 1,
      "metadata": {
        "colab": {
          "base_uri": "https://localhost:8080/"
        },
        "id": "VCU0gS8H0yVN",
        "outputId": "ff070ed8-a4b4-454f-cbf3-874dc4a9941d"
      },
      "outputs": [
        {
          "output_type": "stream",
          "name": "stdout",
          "text": [
            "Category: Teen\n",
            "Ticket Price: $10.00\n"
          ]
        }
      ],
      "source": [
        "# Set the age\n",
        "age = 16\n",
        "\n",
        "# Check the category and ticket price\n",
        "if 0 <= age <= 11:\n",
        "    category = \"Child\"\n",
        "    price = 8.00\n",
        "elif 12 <= age <= 17:\n",
        "    category = \"Teen\"\n",
        "    price = 10.00\n",
        "elif age >= 18:\n",
        "    category = \"Adult\"\n",
        "    price = 12.00\n",
        "else:\n",
        "    category = \"Invalid age\"\n",
        "    price = 0.00\n",
        "\n",
        "# Print the result\n",
        "print(f\"Category: {category}\")\n",
        "print(f\"Ticket Price: ${price:.2f}\")\n"
      ]
    },
    {
      "cell_type": "code",
      "source": [
        "# Set the cart total\n",
        "cart_total = 85\n",
        "\n",
        "# Determine the discount rate\n",
        "if cart_total < 50:\n",
        "    discount_rate = 0.00\n",
        "elif 50 <= cart_total < 100:\n",
        "    discount_rate = 0.10  # 10%\n",
        "else:\n",
        "    discount_rate = 0.20  # 20%\n",
        "\n",
        "# Calculate the discount and final price\n",
        "discount_amount = cart_total * discount_rate\n",
        "final_price = cart_total - discount_amount\n",
        "\n",
        "# Print the result\n",
        "print(f\"Discount Amount: ${discount_amount:.2f}\")\n",
        "print(f\"Final Price: ${final_price:.2f}\")"
      ],
      "metadata": {
        "colab": {
          "base_uri": "https://localhost:8080/"
        },
        "id": "blBbyQcD1TJt",
        "outputId": "8a6e6e98-dd57-4d03-8d59-5457630ac885"
      },
      "execution_count": 3,
      "outputs": [
        {
          "output_type": "stream",
          "name": "stdout",
          "text": [
            "Discount Amount: $8.50\n",
            "Final Price: $76.50\n"
          ]
        }
      ]
    },
    {
      "cell_type": "code",
      "source": [
        "# Set the score\n",
        "score = 73\n",
        "\n",
        "# Determine the letter grade\n",
        "if 90 <= score <= 100:\n",
        "    grade = 'A'\n",
        "    message = \"Excellent work!\"\n",
        "elif 80 <= score <= 89:\n",
        "    grade = 'B'\n",
        "    message = \"Good job!\"\n",
        "elif 70 <= score <= 79:\n",
        "    grade = 'C'\n",
        "    message = \"You passed!\"\n",
        "elif 60 <= score <= 69:\n",
        "    grade = 'D'\n",
        "    message = \"You passed, but there's room for improvement.\"\n",
        "elif 0 <= score < 60:\n",
        "    grade = 'F'\n",
        "    message = \"Unfortunately, you did not pass.\"\n",
        "else:\n",
        "    grade = 'Invalid'\n",
        "    message = \"Score must be between 0 and 100.\"\n",
        "\n",
        "# Print the results\n",
        "print(f\"Score: {score}\")\n",
        "print(f\"Grade: {grade}\")\n",
        "print(f\"Message: {message}\")\n"
      ],
      "metadata": {
        "colab": {
          "base_uri": "https://localhost:8080/"
        },
        "id": "C08ekI3J1nqI",
        "outputId": "a0cba42a-11c5-4f6e-f6a7-38575b200e1c"
      },
      "execution_count": 4,
      "outputs": [
        {
          "output_type": "stream",
          "name": "stdout",
          "text": [
            "Score: 73\n",
            "Grade: C\n",
            "Message: You passed!\n"
          ]
        }
      ]
    },
    {
      "cell_type": "code",
      "source": [
        "# Set the number of hours parked\n",
        "hours = 6\n",
        "\n",
        "# Calculate the parking fee\n",
        "if hours <= 2:\n",
        "    total_fee = 0\n",
        "elif 3 <= hours <= 5:\n",
        "    total_fee = (hours - 2) * 3  # Only pay for hours above 2\n",
        "else:\n",
        "    # First 3 paid hours (hours 3–5) at $3/hour = $9\n",
        "    # Remaining hours beyond 5 at $5/hour\n",
        "    extra_hours = hours - 5\n",
        "    total_fee = (3 * 3) + (extra_hours * 5)\n",
        "\n",
        "# Print the results\n",
        "print(f\"Hours Parked: {hours}\")\n",
        "print(f\"Total Parking Fee: ${total_fee:.2f}\")\n"
      ],
      "metadata": {
        "colab": {
          "base_uri": "https://localhost:8080/"
        },
        "id": "JZdAddum2G7n",
        "outputId": "9ac50155-66f7-422e-f346-812710b2a1b3"
      },
      "execution_count": 5,
      "outputs": [
        {
          "output_type": "stream",
          "name": "stdout",
          "text": [
            "Hours Parked: 6\n",
            "Total Parking Fee: $14.00\n"
          ]
        }
      ]
    },
    {
      "cell_type": "code",
      "source": [
        "# Define the menu and the order\n",
        "menu = ['pizza', 'salad', 'sandwich']\n",
        "order = 'salad'\n",
        "\n",
        "# Check if the order is in the menu\n",
        "if order in menu:\n",
        "    print(f\"Yes, we have {order}. Your order has been placed!\")\n",
        "else:\n",
        "    print(f\"Sorry, we don't have {order} at the moment.\")\n"
      ],
      "metadata": {
        "colab": {
          "base_uri": "https://localhost:8080/"
        },
        "id": "0CLjBf7H2VAi",
        "outputId": "300eb3b2-1ba2-4fda-c4aa-a28c8b712a21"
      },
      "execution_count": 6,
      "outputs": [
        {
          "output_type": "stream",
          "name": "stdout",
          "text": [
            "Yes, we have salad. Your order has been placed!\n"
          ]
        }
      ]
    },
    {
      "cell_type": "code",
      "source": [
        "# Define age and experience\n",
        "age = 23\n",
        "experience = 1\n",
        "\n",
        "# Check job eligibility\n",
        "if age > 22 and experience > 2:\n",
        "    print(\"Accepted\")\n",
        "else:\n",
        "    print(\"Not Accepted\")\n"
      ],
      "metadata": {
        "colab": {
          "base_uri": "https://localhost:8080/"
        },
        "id": "jnwUb9-B2YF_",
        "outputId": "d4e801ff-6f2e-42ed-d670-0b106677ae96"
      },
      "execution_count": 12,
      "outputs": [
        {
          "output_type": "stream",
          "name": "stdout",
          "text": [
            "Not Accepted\n"
          ]
        }
      ]
    },
    {
      "cell_type": "code",
      "source": [
        "# Set the temperature\n",
        "temperature = 15\n",
        "\n",
        "# Suggest clothing based on temperature\n",
        "if temperature < 10:\n",
        "    suggestion = \"Coat and gloves\"\n",
        "elif 10 <= temperature <= 19:\n",
        "    suggestion = \"Jacket\"\n",
        "else:\n",
        "    suggestion = \"T-shirt\"\n",
        "\n",
        "# Print the suggestion\n",
        "print(f\"Temperature: {temperature}°C\")\n",
        "print(f\"Suggested clothing: {suggestion}\")\n"
      ],
      "metadata": {
        "colab": {
          "base_uri": "https://localhost:8080/"
        },
        "id": "fAJL45lS2g4m",
        "outputId": "ced8c371-a097-4f19-c046-55dde07a1f4e"
      },
      "execution_count": 15,
      "outputs": [
        {
          "output_type": "stream",
          "name": "stdout",
          "text": [
            "Temperature: 15°C\n",
            "Suggested clothing: Jacket\n"
          ]
        }
      ]
    },
    {
      "cell_type": "code",
      "source": [
        "# Set salary and credit score\n",
        "salary = 3500\n",
        "credit_score = 640\n",
        "\n",
        "# Check loan eligibility\n",
        "if salary >= 3000 and credit_score >= 650:\n",
        "    print(\"Loan Approved\")\n",
        "else:\n",
        "    print(\"Loan Denied\")\n"
      ],
      "metadata": {
        "colab": {
          "base_uri": "https://localhost:8080/"
        },
        "id": "5ms-9K9W2y8v",
        "outputId": "60899798-21cc-4a85-e76f-1632a88bc5da"
      },
      "execution_count": 16,
      "outputs": [
        {
          "output_type": "stream",
          "name": "stdout",
          "text": [
            "Loan Denied\n"
          ]
        }
      ]
    },
    {
      "cell_type": "code",
      "source": [
        "# Set the password\n",
        "password = 'hello123'\n",
        "\n",
        "# Determine password strength based on length\n",
        "length = len(password)\n",
        "\n",
        "if length < 6:\n",
        "    strength = \"Weak\"\n",
        "elif 6 <= length <= 10:\n",
        "    strength = \"Medium\"\n",
        "else:\n",
        "    strength = \"Strong\"\n",
        "\n",
        "# Print the strength\n",
        "print(f\"Password strength: {strength}\")\n"
      ],
      "metadata": {
        "colab": {
          "base_uri": "https://localhost:8080/"
        },
        "id": "HNPKWrP5262T",
        "outputId": "3cf26d35-bfa6-477b-c58b-0509602c1340"
      },
      "execution_count": 17,
      "outputs": [
        {
          "output_type": "stream",
          "name": "stdout",
          "text": [
            "Password strength: Medium\n"
          ]
        }
      ]
    },
    {
      "cell_type": "code",
      "source": [
        "# List of invited guests\n",
        "invited_guests = ['John', 'Sara', 'Mike']\n",
        "\n",
        "# Guest to check\n",
        "guest = 'Sara'\n",
        "\n",
        "# Check if the guest is in the invited list\n",
        "if guest in invited_guests:\n",
        "    print(\"Welcome\")\n",
        "else:\n",
        "    print(\"Not on the list\")\n"
      ],
      "metadata": {
        "colab": {
          "base_uri": "https://localhost:8080/"
        },
        "id": "o9FIz4gN3EZU",
        "outputId": "685c1ba5-4fbc-48e0-9ada-fe9fe220eb11"
      },
      "execution_count": 18,
      "outputs": [
        {
          "output_type": "stream",
          "name": "stdout",
          "text": [
            "Welcome\n"
          ]
        }
      ]
    }
  ]
}