{
  "nbformat": 4,
  "nbformat_minor": 0,
  "metadata": {
    "colab": {
      "provenance": [],
      "authorship_tag": "ABX9TyPrs9IvCQ8AXqhNwuTqYPvf",
      "include_colab_link": true
    },
    "kernelspec": {
      "name": "python3",
      "display_name": "Python 3"
    },
    "language_info": {
      "name": "python"
    }
  },
  "cells": [
    {
      "cell_type": "markdown",
      "metadata": {
        "id": "view-in-github",
        "colab_type": "text"
      },
      "source": [
        "<a href=\"https://colab.research.google.com/github/liljar2004-sudo/Kenjar_DTSC3020/blob/main/assignment2_kw0079_ipynb.ipynb\" target=\"_parent\"><img src=\"https://colab.research.google.com/assets/colab-badge.svg\" alt=\"Open In Colab\"/></a>"
      ]
    },
    {
      "cell_type": "code",
      "execution_count": 4,
      "metadata": {
        "colab": {
          "base_uri": "https://localhost:8080/"
        },
        "id": "Cr1MDZ4eyRSc",
        "outputId": "701b800c-8616-4bc8-f6ae-acb6633c4ef7"
      },
      "outputs": [
        {
          "output_type": "stream",
          "name": "stdout",
          "text": [
            "pear ,dragonfruit ,peach\n",
            "pear\n",
            "dragonfruit\n",
            "peach\n"
          ]
        }
      ],
      "source": [
        "print(\"pear ,dragonfruit ,peach\")\n",
        "print(\"pear\")\n",
        "print(\"dragonfruit\")\n",
        "print(\"peach\")"
      ]
    },
    {
      "cell_type": "code",
      "source": [
        "my_list = [\"kenjar\", \"josh\", \"penny\", \"brandon\"]\n",
        "my_list[0] = \"kenjar Williams\"\n",
        "print(my_list)"
      ],
      "metadata": {
        "colab": {
          "base_uri": "https://localhost:8080/"
        },
        "id": "BecjUpCkzqeU",
        "outputId": "80d681e6-9109-40cb-82c9-1c413efe5ad9"
      },
      "execution_count": 8,
      "outputs": [
        {
          "output_type": "stream",
          "name": "stdout",
          "text": [
            "['kenjar Williams', 'josh', 'penny', 'brandon']\n"
          ]
        }
      ]
    },
    {
      "cell_type": "code",
      "source": [
        "my_list = [\"infinti, jeep, kia, bentley, miata\"]\n",
        "my_list.append(\"honda\")\n",
        "print(my_list)"
      ],
      "metadata": {
        "colab": {
          "base_uri": "https://localhost:8080/"
        },
        "id": "pUftbWUF2Xmq",
        "outputId": "374bf2b3-7310-4f22-c44d-b0c2e1521189"
      },
      "execution_count": 9,
      "outputs": [
        {
          "output_type": "stream",
          "name": "stdout",
          "text": [
            "['infinti, jeep, kia, bentley, miata', 'honda']\n"
          ]
        }
      ]
    },
    {
      "cell_type": "code",
      "source": [
        "my_list = [\"pie\", \"apples\", \"pizza\", \"chicken\", \"steak\", \"donuts\"]\n",
        "print(my_list)\n",
        "my_list.remove(\"apples\")\n",
        "print(my_list)"
      ],
      "metadata": {
        "colab": {
          "base_uri": "https://localhost:8080/"
        },
        "id": "5j3mHX-e3fsa",
        "outputId": "be3a509e-4287-4eed-dec9-c5c41ecc3af1"
      },
      "execution_count": 17,
      "outputs": [
        {
          "output_type": "stream",
          "name": "stdout",
          "text": [
            "['pie', 'apples', 'pizza', 'chicken', 'steak', 'donuts']\n",
            "['pie', 'pizza', 'chicken', 'steak', 'donuts']\n"
          ]
        }
      ]
    },
    {
      "cell_type": "code",
      "source": [
        "my_list = [\"denton\", \"austin\", \"houston\", \"san antonio\"]\n",
        "my_list.sort()\n",
        "print(my_list)\n",
        "my_list.reverse()\n",
        "print(my_list)"
      ],
      "metadata": {
        "colab": {
          "base_uri": "https://localhost:8080/"
        },
        "id": "EUrDr1yu428p",
        "outputId": "d8632fcd-538a-4140-96e6-dc2658525700"
      },
      "execution_count": 19,
      "outputs": [
        {
          "output_type": "stream",
          "name": "stdout",
          "text": [
            "['austin', 'denton', 'houston', 'san antonio']\n",
            "['san antonio', 'houston', 'denton', 'austin']\n"
          ]
        }
      ]
    },
    {
      "cell_type": "code",
      "source": [
        "my_list = [\"dog\", \"cat\", \"capybara\"]\n",
        "for animal in my_list:\n",
        "  print(animal)"
      ],
      "metadata": {
        "colab": {
          "base_uri": "https://localhost:8080/"
        },
        "id": "k2raM7zS6TiJ",
        "outputId": "5d1e0abe-77cc-48d3-d42d-794653db3c6b"
      },
      "execution_count": 20,
      "outputs": [
        {
          "output_type": "stream",
          "name": "stdout",
          "text": [
            "dog\n",
            "cat\n",
            "capybara\n"
          ]
        }
      ]
    },
    {
      "cell_type": "code",
      "source": [
        "my_list = [1, 2, 3, 4, 5]\n",
        "for number in my_list:\n",
        "  print(number *2)"
      ],
      "metadata": {
        "colab": {
          "base_uri": "https://localhost:8080/"
        },
        "id": "pHe_8RXX7A4H",
        "outputId": "949a1a0c-1a7b-4635-fb9a-fdef6dfc09e2"
      },
      "execution_count": 21,
      "outputs": [
        {
          "output_type": "stream",
          "name": "stdout",
          "text": [
            "2\n",
            "4\n",
            "6\n",
            "8\n",
            "10\n"
          ]
        }
      ]
    },
    {
      "cell_type": "code",
      "source": [
        "my_list = [\"benji\", \"ose\", \"zay\", \"aron\", \"andrew\", \"dre\"]\n",
        "print(my_list [0:3])\n",
        "print(my_list [3:6])"
      ],
      "metadata": {
        "colab": {
          "base_uri": "https://localhost:8080/"
        },
        "id": "7XFPUerX_8gx",
        "outputId": "0e848f0e-de0c-43d2-8b2d-a9317159a153"
      },
      "execution_count": 34,
      "outputs": [
        {
          "output_type": "stream",
          "name": "stdout",
          "text": [
            "['benji', 'ose', 'zay']\n",
            "['aron', 'andrew', 'dre']\n"
          ]
        }
      ]
    },
    {
      "cell_type": "code",
      "source": [
        "number = range(1, 10)\n",
        "for number in range(1, 11):\n",
        " print(number)"
      ],
      "metadata": {
        "colab": {
          "base_uri": "https://localhost:8080/"
        },
        "id": "WIXq2gbZBB7p",
        "outputId": "56004774-42f5-4f68-8a80-eee96e0cddbe"
      },
      "execution_count": 39,
      "outputs": [
        {
          "output_type": "stream",
          "name": "stdout",
          "text": [
            "1\n",
            "2\n",
            "3\n",
            "4\n",
            "5\n",
            "6\n",
            "7\n",
            "8\n",
            "9\n",
            "10\n"
          ]
        }
      ]
    },
    {
      "cell_type": "code",
      "source": [
        "my_list = [1, 2, 3, 4, 5]\n",
        "for number in my_list:\n",
        "  print(number **2)"
      ],
      "metadata": {
        "colab": {
          "base_uri": "https://localhost:8080/"
        },
        "id": "LjL0Fv-kCKDd",
        "outputId": "86fc6eec-74b7-49b3-9546-8cbf81f3f2b8"
      },
      "execution_count": 44,
      "outputs": [
        {
          "output_type": "stream",
          "name": "stdout",
          "text": [
            "1\n",
            "4\n",
            "9\n",
            "16\n",
            "25\n"
          ]
        }
      ]
    }
  ]
}